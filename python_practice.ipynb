{
 "cells": [
  {
   "cell_type": "markdown",
   "metadata": {},
   "source": [
    "## 1.Basic Exercise for Beginners"
   ]
  },
  {
   "cell_type": "markdown",
   "metadata": {},
   "source": [
    "Excercise 1: Swap the number without using third varible"
   ]
  },
  {
   "cell_type": "code",
   "execution_count": 1,
   "metadata": {},
   "outputs": [
    {
     "name": "stdout",
     "output_type": "stream",
     "text": [
      "9 7\n"
     ]
    }
   ],
   "source": [
    "a = 7\n",
    "b = 9\n",
    "\n",
    "a = a + b\n",
    "b = a - b\n",
    "a = a - b\n",
    "\n",
    "print(a, b)"
   ]
  },
  {
   "cell_type": "markdown",
   "metadata": {},
   "source": [
    "Exercise 2: Write a Program to extract each digit from an integer in the reverse order.\n",
    "\n",
    "For example, If the given int is 7536, the output shall be “6 3 5 7“, with a space separating the digits."
   ]
  },
  {
   "cell_type": "code",
   "execution_count": 13,
   "metadata": {},
   "outputs": [],
   "source": [
    "a = 7536\n",
    "a = str(a)\n",
    "' '.join(a[::-1])"
   ]
  },
  {
   "cell_type": "markdown",
   "metadata": {},
   "source": [
    "Exercise 3: Write a program that will give you the sum of 3 digits"
   ]
  },
  {
   "cell_type": "code",
   "execution_count": 27,
   "metadata": {},
   "outputs": [
    {
     "data": {
      "text/plain": [
       "6"
      ]
     },
     "execution_count": 27,
     "metadata": {},
     "output_type": "execute_result"
    }
   ],
   "source": [
    "a = 123\n",
    "a = str(a)\n",
    "\n",
    "result = 0\n",
    "\n",
    "for i in range(len(a)):\n",
    "    result += int(a[i]) \n",
    "\n",
    "result"
   ]
  },
  {
   "cell_type": "markdown",
   "metadata": {},
   "source": [
    "Exercise 4: Write a program that will reverse a four digit number.Also it checks whether the reverse"
   ]
  },
  {
   "cell_type": "code",
   "execution_count": 9,
   "metadata": {},
   "outputs": [
    {
     "data": {
      "text/plain": [
       "False"
      ]
     },
     "execution_count": 9,
     "metadata": {},
     "output_type": "execute_result"
    }
   ],
   "source": [
    "a = 1234\n",
    "rev_a = int(str(a)[::-1])\n",
    "\n",
    "a == rev_a"
   ]
  },
  {
   "cell_type": "markdown",
   "metadata": {},
   "source": [
    "Exercise 5: Write a program to find the euclidean distance between two coordinates."
   ]
  },
  {
   "cell_type": "code",
   "execution_count": 8,
   "metadata": {},
   "outputs": [
    {
     "data": {
      "text/plain": [
       "2.8284271247461903"
      ]
     },
     "execution_count": 8,
     "metadata": {},
     "output_type": "execute_result"
    }
   ],
   "source": [
    "import math\n",
    "\n",
    "a = [3, 4]\n",
    "b = [5, 6]\n",
    "\n",
    "math.sqrt((a[0]-b[0])**2 + (a[1]-b[1])**2)\n",
    "\n",
    "# math.dist(a, b) is only available after v3.8"
   ]
  },
  {
   "cell_type": "markdown",
   "metadata": {},
   "source": [
    "Exercise 6: Write a program that will tell whether the given number is divisible by 3 & 6."
   ]
  },
  {
   "cell_type": "code",
   "execution_count": 12,
   "metadata": {},
   "outputs": [
    {
     "data": {
      "text/plain": [
       "False"
      ]
     },
     "execution_count": 12,
     "metadata": {},
     "output_type": "execute_result"
    }
   ],
   "source": [
    "a = 4\n",
    "\n",
    "result = (a%3)+(a%6)\n",
    "result == 0"
   ]
  },
  {
   "cell_type": "markdown",
   "metadata": {},
   "source": [
    "Exercise 7: Write a program that will take three digits from the user and add the square of each digit."
   ]
  },
  {
   "cell_type": "code",
   "execution_count": 19,
   "metadata": {},
   "outputs": [
    {
     "data": {
      "text/plain": [
       "50"
      ]
     },
     "execution_count": 19,
     "metadata": {},
     "output_type": "execute_result"
    }
   ],
   "source": [
    "a = 345\n",
    "\n",
    "result = 0\n",
    "\n",
    "for i in range(len(str(a))):\n",
    "    result += (int(str(a)[i])) ** 2\n",
    "\n",
    "result"
   ]
  },
  {
   "cell_type": "markdown",
   "metadata": {},
   "source": [
    "Exercise 8: Write a program that will check whether the number is armstrong number or not.\n",
    "\n",
    "An Armstrong number is one whose sum of digits raised to the power three equals the\n",
    "number itself. 371, for example, is an Armstrong number because 3**3 + 7**3 + 1**3 =\n",
    "371."
   ]
  },
  {
   "cell_type": "code",
   "execution_count": 23,
   "metadata": {},
   "outputs": [
    {
     "data": {
      "text/plain": [
       "True"
      ]
     },
     "execution_count": 23,
     "metadata": {},
     "output_type": "execute_result"
    }
   ],
   "source": [
    "a = 371\n",
    "\n",
    "result = 0\n",
    "for i in range(len(str(a))):\n",
    "    result += int(str(a)[i]) ** 3\n",
    "\n",
    "a == result"
   ]
  },
  {
   "cell_type": "markdown",
   "metadata": {},
   "source": [
    "Exercise 9:Write a program that will take user input of (4 digits number) and check whether the number is narcissist number or not."
   ]
  },
  {
   "cell_type": "code",
   "execution_count": 26,
   "metadata": {},
   "outputs": [
    {
     "data": {
      "text/plain": [
       "True"
      ]
     },
     "execution_count": 26,
     "metadata": {},
     "output_type": "execute_result"
    }
   ],
   "source": [
    "a = 9474\n",
    "\n",
    "result = 0\n",
    "for i in range(len(str(a))):\n",
    "    result += int(str(a)[i]) ** 4\n",
    "\n",
    "a == result"
   ]
  },
  {
   "cell_type": "markdown",
   "metadata": {},
   "source": [
    "## 2.python input and output exercise"
   ]
  },
  {
   "cell_type": "markdown",
   "metadata": {},
   "source": [
    "Exercise 1: Accept numbers from a user"
   ]
  },
  {
   "cell_type": "code",
   "execution_count": 5,
   "metadata": {},
   "outputs": [
    {
     "name": "stdout",
     "output_type": "stream",
     "text": [
      "12\n"
     ]
    }
   ],
   "source": [
    "number = input('enter a number: ')\n",
    "\n",
    "print(number)"
   ]
  },
  {
   "cell_type": "markdown",
   "metadata": {},
   "source": [
    "Exercise 2: Display three string “Name”, “Is”, “James” as “Name ** Is ** James”"
   ]
  },
  {
   "cell_type": "code",
   "execution_count": 27,
   "metadata": {},
   "outputs": [
    {
     "name": "stdout",
     "output_type": "stream",
     "text": [
      "Name**Is**James\n"
     ]
    }
   ],
   "source": [
    "print('Name', 'Is', 'James', sep='**')"
   ]
  },
  {
   "cell_type": "markdown",
   "metadata": {},
   "source": [
    "Exercise 3: Convert Decimal number to octal using print() output formatting\n",
    "\n",
    "The octal number of decimal number 8 is 10"
   ]
  },
  {
   "cell_type": "code",
   "execution_count": 31,
   "metadata": {},
   "outputs": [
    {
     "name": "stdout",
     "output_type": "stream",
     "text": [
      "14\n"
     ]
    }
   ],
   "source": [
    "number = 12\n",
    "\n",
    "print(oct(number)[-2:])"
   ]
  },
  {
   "cell_type": "markdown",
   "metadata": {},
   "source": [
    "Exercise 4: Display float number with 2 decimal places using print()"
   ]
  },
  {
   "cell_type": "code",
   "execution_count": 1,
   "metadata": {},
   "outputs": [
    {
     "name": "stdout",
     "output_type": "stream",
     "text": [
      "12.46\n"
     ]
    }
   ],
   "source": [
    "num = 12.4567\n",
    "\n",
    "print(round(num, 2))"
   ]
  },
  {
   "cell_type": "markdown",
   "metadata": {},
   "source": [
    "Exercise 5: Print all factors of a given number provided by the user."
   ]
  },
  {
   "cell_type": "code",
   "execution_count": 16,
   "metadata": {},
   "outputs": [
    {
     "data": {
      "text/plain": [
       "[1, 3, 5, 9, 15, 45]"
      ]
     },
     "execution_count": 16,
     "metadata": {},
     "output_type": "execute_result"
    }
   ],
   "source": [
    "num = int(input('enter a number: '))\n",
    "\n",
    "factors = []\n",
    "for i in range(num):\n",
    "    if 45%(i+1) == 0:\n",
    "        factors.append(i+1)\n",
    "\n",
    "factors"
   ]
  },
  {
   "cell_type": "markdown",
   "metadata": {},
   "source": [
    "\n",
    "Exercise 6: Accept a list of 5 float numbers as an input from the user"
   ]
  },
  {
   "cell_type": "code",
   "execution_count": 21,
   "metadata": {},
   "outputs": [
    {
     "data": {
      "text/plain": [
       "[12.5, 5.0, 63.789, 96.0, 44.65]"
      ]
     },
     "execution_count": 21,
     "metadata": {},
     "output_type": "execute_result"
    }
   ],
   "source": [
    "n = 0\n",
    "num_list = []\n",
    "\n",
    "while n < 5:\n",
    "    num = float(input('enter a number: '))\n",
    "    num_list.append(float(num))\n",
    "    n += 1\n",
    "\n",
    "num_list"
   ]
  },
  {
   "cell_type": "markdown",
   "metadata": {},
   "source": [
    "Exercise 7: Accept any three string from one input() call"
   ]
  },
  {
   "cell_type": "code",
   "execution_count": 34,
   "metadata": {},
   "outputs": [
    {
     "name": "stdout",
     "output_type": "stream",
     "text": [
      "aaa\n",
      "bbb\n",
      "ccc\n"
     ]
    }
   ],
   "source": [
    "name_list = input(\"enter the three names with keeping space in between: \")\n",
    "\n",
    "for i in range(3):\n",
    "    print(name_list.split(' ')[i])"
   ]
  },
  {
   "cell_type": "markdown",
   "metadata": {},
   "source": [
    "Exercise 8: Format variables using a string.format() method."
   ]
  },
  {
   "cell_type": "code",
   "execution_count": 35,
   "metadata": {},
   "outputs": [
    {
     "name": "stdout",
     "output_type": "stream",
     "text": [
      "I have 1200 dollars so I can buy 4 footballs for 450 dollars\n"
     ]
    }
   ],
   "source": [
    "totalmoney=1200 \n",
    "quantity=4 \n",
    "price=450\n",
    "\n",
    "print('I have {} dollars so I can buy {} footballs for {} dollars'.format(totalmoney, quantity, price))"
   ]
  },
  {
   "cell_type": "markdown",
   "metadata": {},
   "source": [
    "Exercise 9: Write a program to find the simple interest when the value of principle,rate of interest and time period is given."
   ]
  },
  {
   "cell_type": "code",
   "execution_count": 37,
   "metadata": {},
   "outputs": [
    {
     "data": {
      "text/plain": [
       "40200.0"
      ]
     },
     "execution_count": 37,
     "metadata": {},
     "output_type": "execute_result"
    }
   ],
   "source": [
    "amount = 67000\n",
    "rate = 12\n",
    "period = 5\n",
    "\n",
    "interest = amount * rate/100 * period\n",
    "interest"
   ]
  },
  {
   "cell_type": "markdown",
   "metadata": {},
   "source": [
    "## 3.files and exceptions"
   ]
  },
  {
   "cell_type": "markdown",
   "metadata": {},
   "source": [
    "### what are the files and what are the exceptions"
   ]
  },
  {
   "cell_type": "markdown",
   "metadata": {},
   "source": [
    "\n",
    "Exercise 1: Check file is empty or not,Write a program to check if the given file is empty or not"
   ]
  },
  {
   "cell_type": "code",
   "execution_count": 45,
   "metadata": {},
   "outputs": [
    {
     "data": {
      "text/plain": [
       "17"
      ]
     },
     "execution_count": 45,
     "metadata": {},
     "output_type": "execute_result"
    }
   ],
   "source": [
    "import os\n",
    "\n",
    "os.stat('test.txt').st_size"
   ]
  },
  {
   "cell_type": "markdown",
   "metadata": {},
   "source": [
    "Excercise 2: read content from the file"
   ]
  },
  {
   "cell_type": "code",
   "execution_count": 51,
   "metadata": {},
   "outputs": [
    {
     "name": "stdout",
     "output_type": "stream",
     "text": [
      "Test\n",
      "\n",
      "Test\n",
      "\n",
      "Test\n",
      "\n"
     ]
    }
   ],
   "source": [
    "filename=\"test.txt\"\n",
    "\n",
    "with open(filename, 'r') as file:\n",
    "    content=file.read() \n",
    "    \n",
    "print(content)"
   ]
  },
  {
   "cell_type": "markdown",
   "metadata": {},
   "source": [
    "Excercise 3: read line by line"
   ]
  },
  {
   "cell_type": "code",
   "execution_count": 52,
   "metadata": {},
   "outputs": [
    {
     "name": "stdout",
     "output_type": "stream",
     "text": [
      "Test\n",
      "\n",
      "Test\n",
      "\n",
      "Test\n"
     ]
    }
   ],
   "source": [
    "filename=\"test.txt\"\n",
    "\n",
    "with open(filename, 'r') as file:\n",
    "    for line in file:\n",
    "        print(line.strip())"
   ]
  },
  {
   "cell_type": "code",
   "execution_count": 64,
   "metadata": {},
   "outputs": [
    {
     "name": "stdout",
     "output_type": "stream",
     "text": [
      "Test\n",
      "Test\n",
      "Test\n",
      "add line\n"
     ]
    }
   ],
   "source": [
    "filename=\"test.txt\"\n",
    "\n",
    "with open(filename, 'r') as file:\n",
    "    lines = [line.strip() for line in file if line.strip()]   # excluding blank lines\n",
    "    for line in lines:\n",
    "        print(line)"
   ]
  },
  {
   "cell_type": "markdown",
   "metadata": {},
   "source": [
    "\n",
    "Excercise 4: now we will learn about writing to the files"
   ]
  },
  {
   "cell_type": "code",
   "execution_count": 54,
   "metadata": {},
   "outputs": [],
   "source": [
    "filename=\"test.txt\"\n",
    "\n",
    "with open(filename, 'a') as file:  # using 'w' to replace the original content and using 'a' to add new content\n",
    "    file.write('add line')"
   ]
  },
  {
   "cell_type": "markdown",
   "metadata": {},
   "source": [
    "Excercise 5: writing multiple line to empty file"
   ]
  },
  {
   "cell_type": "code",
   "execution_count": 59,
   "metadata": {},
   "outputs": [],
   "source": [
    "filename=\"test2.txt\"\n",
    "\n",
    "# create a new file and add content into the file\n",
    "with open(filename, 'w') as file:\n",
    "    file.write('the first line\\n')\n",
    "    file.write('the second line\\n')"
   ]
  },
  {
   "cell_type": "code",
   "execution_count": 60,
   "metadata": {},
   "outputs": [],
   "source": [
    "with open(filename, 'a') as file:\n",
    "    for i in range(3, 10):\n",
    "        file.write('line_{}\\n'.format(i))"
   ]
  },
  {
   "cell_type": "markdown",
   "metadata": {},
   "source": [
    "Exercise 6: Write all content of a given file into a new file by skipping line number 5"
   ]
  },
  {
   "cell_type": "code",
   "execution_count": 70,
   "metadata": {},
   "outputs": [],
   "source": [
    "with open('test2.txt', 'r') as file:\n",
    "    lines = file.readlines()\n",
    "\n",
    "with open('test3.txt', 'w') as file:\n",
    "    line_cnt = 1\n",
    "    for line in lines:\n",
    "        if line_cnt != 5:\n",
    "            file.write(line)\n",
    "        line_cnt += 1"
   ]
  },
  {
   "cell_type": "markdown",
   "metadata": {},
   "source": [
    "Exercise 7: Read line number 4 from the following file"
   ]
  },
  {
   "cell_type": "code",
   "execution_count": 73,
   "metadata": {},
   "outputs": [
    {
     "name": "stdout",
     "output_type": "stream",
     "text": [
      "line_4\n"
     ]
    }
   ],
   "source": [
    "with open('test2.txt', 'r') as file:\n",
    "    lines = file.readlines()\n",
    "    print(lines[3].rstrip())"
   ]
  },
  {
   "cell_type": "markdown",
   "metadata": {},
   "source": [
    "### The Try and Except block"
   ]
  },
  {
   "cell_type": "markdown",
   "metadata": {},
   "source": [
    "Excercise 8: Let see handling zero division exceptional error"
   ]
  },
  {
   "cell_type": "code",
   "execution_count": 74,
   "metadata": {},
   "outputs": [
    {
     "name": "stdout",
     "output_type": "stream",
     "text": [
      "Numbers cant be divided by zero\n"
     ]
    }
   ],
   "source": [
    "try:\n",
    "    print(5/0)\n",
    "except ZeroDivisionError:\n",
    "    print('Numbers cant be divided by zero')"
   ]
  },
  {
   "cell_type": "code",
   "execution_count": 75,
   "metadata": {},
   "outputs": [
    {
     "name": "stdout",
     "output_type": "stream",
     "text": [
      "test4.txt is not found\n"
     ]
    }
   ],
   "source": [
    "filename = 'test4.txt'\n",
    "\n",
    "try:\n",
    "    with open(filename, 'r') as file:\n",
    "        print(file.read())\n",
    "except FileNotFoundError:\n",
    "    print('{} is not found'.format(filename))"
   ]
  },
  {
   "cell_type": "markdown",
   "metadata": {},
   "source": [
    "### the else block"
   ]
  },
  {
   "cell_type": "markdown",
   "metadata": {},
   "source": [
    "Excercise 9:using else block"
   ]
  },
  {
   "cell_type": "code",
   "execution_count": 5,
   "metadata": {},
   "outputs": [
    {
     "name": "stdout",
     "output_type": "stream",
     "text": [
      "4.166666666666667\n"
     ]
    }
   ],
   "source": [
    "a = int(input('enter number one: '))\n",
    "b = int(input('enter number two: '))\n",
    "\n",
    "try:\n",
    "    result = a/b\n",
    "except ZeroDivisionError:\n",
    "    print('Warning: numbers cant be divided by zero')\n",
    "else:\n",
    "    print(result)"
   ]
  },
  {
   "cell_type": "code",
   "execution_count": 7,
   "metadata": {},
   "outputs": [
    {
     "name": "stdout",
     "output_type": "stream",
     "text": [
      "enter q to exit\n",
      "0.8333333333333334\n",
      "game over\n"
     ]
    }
   ],
   "source": [
    "print('enter q to exit')\n",
    "\n",
    "while True:\n",
    "    a = input('number one: ')\n",
    "    if a == 'q':\n",
    "        print('game over')\n",
    "        break\n",
    "    b = input('number two: ')\n",
    "    if b == 'q':\n",
    "        print('game over')\n",
    "        break\n",
    "\n",
    "    try:\n",
    "        result = int(a)/int(b)\n",
    "    except ZeroDivisionError:\n",
    "        print('Warning: numbers cant be divided by zero')\n",
    "    else:\n",
    "        print(result)"
   ]
  },
  {
   "cell_type": "markdown",
   "metadata": {},
   "source": [
    "Excercise 10: how does finally block work in python"
   ]
  },
  {
   "cell_type": "code",
   "execution_count": 12,
   "metadata": {},
   "outputs": [
    {
     "name": "stdout",
     "output_type": "stream",
     "text": [
      "Warning: numbers cant be divided by zero\n",
      "Final result\n"
     ]
    }
   ],
   "source": [
    "a = 3\n",
    "b = 0\n",
    "\n",
    "try:\n",
    "    print(a/b)\n",
    "except ZeroDivisionError:\n",
    "    print('Warning: numbers cant be divided by zero')\n",
    "finally:   # even with error still running\n",
    "    print('Final result')"
   ]
  },
  {
   "cell_type": "markdown",
   "metadata": {},
   "source": [
    "## 4.Python if else, for loop,while loop and range() Exercises with Solutions"
   ]
  },
  {
   "cell_type": "markdown",
   "metadata": {},
   "source": [
    "Exercise 1: Print the sum of the current number and the previous number\n",
    "\n",
    "Write a program to iterate the first 10 numbers and in each iteration, print the sum of the current and previous number.\n",
    "\n",
    "Expected result: 0,1,3,5,7,9,11,13,15,17"
   ]
  },
  {
   "cell_type": "code",
   "execution_count": 16,
   "metadata": {},
   "outputs": [
    {
     "name": "stdout",
     "output_type": "stream",
     "text": [
      "[0, 1, 3, 5, 7, 9, 11, 13, 15, 17]\n"
     ]
    }
   ],
   "source": [
    "pre_num = 0\n",
    "num_list = []\n",
    "\n",
    "for i in range(10):\n",
    "    num_sum = i + pre_num\n",
    "    num_list.append(num_sum)\n",
    "    pre_num = i\n",
    "\n",
    "print(num_list)"
   ]
  },
  {
   "cell_type": "markdown",
   "metadata": {},
   "source": [
    "Exercise 2: Write a python program to search a given number from a list"
   ]
  },
  {
   "cell_type": "code",
   "execution_count": 20,
   "metadata": {},
   "outputs": [],
   "source": [
    "l1=[4,5,6,2,3,9,1,4,5,6,3]\n",
    "\n",
    "num = 7"
   ]
  },
  {
   "cell_type": "code",
   "execution_count": 21,
   "metadata": {},
   "outputs": [
    {
     "name": "stdout",
     "output_type": "stream",
     "text": [
      "The number isnt found\n"
     ]
    }
   ],
   "source": [
    "find_num = 0\n",
    "\n",
    "for i in range(len(l1)):\n",
    "    if l1[i] == num:\n",
    "        print('Find the number {} at position {}'.format(num, i+1))\n",
    "        find_num += 1\n",
    "\n",
    "if find_num == 0:\n",
    "    print('The number isnt found')"
   ]
  },
  {
   "cell_type": "markdown",
   "metadata": {},
   "source": [
    "Exercise 3: Write a program to check if the given number is a palindrome number.\n",
    "\n",
    "A palindrome number is a number that is same after reverse. For example 545, is the palindrome numbers"
   ]
  },
  {
   "cell_type": "code",
   "execution_count": 40,
   "metadata": {},
   "outputs": [
    {
     "name": "stdout",
     "output_type": "stream",
     "text": [
      "The number 545 is palindrome\n"
     ]
    }
   ],
   "source": [
    "num = 545\n",
    "\n",
    "num = str(num)\n",
    "rev_num = num[::-1]\n",
    "\n",
    "if num == rev_num:\n",
    "    print('The number {} is palindrome'.format(num))"
   ]
  },
  {
   "cell_type": "markdown",
   "metadata": {},
   "source": [
    "Exercise 4: Create a new list from a two list using the following condition. \n",
    "\n",
    "Given a two list of numbers, write a program to create a new list such that the new list should contain odd numbers from the first list and even numbers from the second list."
   ]
  },
  {
   "cell_type": "code",
   "execution_count": 43,
   "metadata": {},
   "outputs": [
    {
     "name": "stdout",
     "output_type": "stream",
     "text": [
      "[1, 3, 5, 6, 8, 10]\n"
     ]
    }
   ],
   "source": [
    "l1=[1,2,3,4,5] \n",
    "l2=[6,7,8,9,10]\n",
    "\n",
    "new_list = []\n",
    "\n",
    "for i in range(len(l1)):\n",
    "    if l1[i]%2 == 1:\n",
    "        new_list.append(l1[i])\n",
    "\n",
    "for i in range(len(l2)):\n",
    "    if l2[i]%2 == 0:\n",
    "        new_list.append(l2[i])\n",
    "\n",
    "print(new_list)"
   ]
  },
  {
   "cell_type": "markdown",
   "metadata": {},
   "source": [
    "Exercise 5: Calculate income tax for the given income by adhering to the below rules \n",
    "\n",
    "first 10k--> 0%\n",
    "second 10 --> 10%\n",
    "remaining-->20%\n",
    "\n",
    "Expected Output:\n",
    "For example, suppose the taxable income is 45000 the income tax payable is 10000*0% + 10000*10% + 25000*20% = $6000."
   ]
  },
  {
   "cell_type": "code",
   "execution_count": 54,
   "metadata": {},
   "outputs": [],
   "source": [
    "income = 45000"
   ]
  },
  {
   "cell_type": "code",
   "execution_count": 55,
   "metadata": {},
   "outputs": [
    {
     "name": "stdout",
     "output_type": "stream",
     "text": [
      "Tax = 6000.0\n"
     ]
    }
   ],
   "source": [
    "if income <= 10000:\n",
    "    tax = 0\n",
    "elif income <= 20000:\n",
    "    tax = (income - 10000) * 0.1\n",
    "else:\n",
    "    tax = 10000*0.1 + (income-20000)*0.2\n",
    "\n",
    "print('Tax = {}'.format(tax))"
   ]
  },
  {
   "cell_type": "markdown",
   "metadata": {},
   "source": [
    "Exercise 6: Print multiplication table form 1 to 10"
   ]
  },
  {
   "cell_type": "code",
   "execution_count": 64,
   "metadata": {},
   "outputs": [
    {
     "name": "stdout",
     "output_type": "stream",
     "text": [
      "1 2 3 4 5 6 7 8 9 10 \n",
      "\n",
      "2 4 6 8 10 12 14 16 18 20 \n",
      "\n",
      "3 6 9 12 15 18 21 24 27 30 \n",
      "\n",
      "4 8 12 16 20 24 28 32 36 40 \n",
      "\n",
      "5 10 15 20 25 30 35 40 45 50 \n",
      "\n",
      "6 12 18 24 30 36 42 48 54 60 \n",
      "\n",
      "7 14 21 28 35 42 49 56 63 70 \n",
      "\n",
      "8 16 24 32 40 48 56 64 72 80 \n",
      "\n",
      "9 18 27 36 45 54 63 72 81 90 \n",
      "\n",
      "10 20 30 40 50 60 70 80 90 100 \n",
      "\n"
     ]
    }
   ],
   "source": [
    "for i in range(1, 11):\n",
    "    for j in range(1, 11):\n",
    "        print(i*j, end=' ')\n",
    "    print('\\n')"
   ]
  },
  {
   "cell_type": "markdown",
   "metadata": {},
   "source": [
    "Exercise 7: Print all the armstrong numbers in the range of 100 to 1000"
   ]
  },
  {
   "cell_type": "code",
   "execution_count": 71,
   "metadata": {},
   "outputs": [
    {
     "name": "stdout",
     "output_type": "stream",
     "text": [
      "[153, 370, 371, 407]\n"
     ]
    }
   ],
   "source": [
    "num_list = []\n",
    "\n",
    "for number in range(100, 1001):\n",
    "    number = str(number)\n",
    "    num_3 = int(number[0])**3 + int(number[1])**3 + int(number[2])**3\n",
    "\n",
    "    if int(number) == num_3:\n",
    "        num_list.append(num_3)\n",
    "\n",
    "print(num_list)"
   ]
  },
  {
   "cell_type": "markdown",
   "metadata": {},
   "source": [
    "Exercise 8: The current population of a town is 10000. The population of the town is increasing at the rate of 10% per year. You have to write a program to find out the population at the end of each of the last 10 years. For eg current population is 10000 so the output should be like this:\n",
    "* 10th year - 10000\n",
    "* 9th year - 9000\n",
    "* 8th year - 8100 and so on"
   ]
  },
  {
   "cell_type": "code",
   "execution_count": 8,
   "metadata": {},
   "outputs": [
    {
     "name": "stdout",
     "output_type": "stream",
     "text": [
      "Year 10 : 10000\n",
      "Year 9 : 9000\n",
      "Year 8 : 8100\n",
      "Year 7 : 7290\n",
      "Year 6 : 6561\n",
      "Year 5 : 5904\n",
      "Year 4 : 5314\n",
      "Year 3 : 4782\n",
      "Year 2 : 4304\n",
      "Year 1 : 3874\n"
     ]
    }
   ],
   "source": [
    "pop = 10000\n",
    "print('Year 10 : {}'.format(pop))\n",
    "\n",
    "for i in range(9):\n",
    "    pop = pop*(1-0.1)\n",
    "\n",
    "    print('Year {} : {}'.format(9-i, int(pop)))"
   ]
  },
  {
   "cell_type": "markdown",
   "metadata": {},
   "source": [
    "Exercise 9: Write a program to print all the unique combinations of two digits from 1 to 4 for ex (1,2), (2,3)....."
   ]
  },
  {
   "cell_type": "code",
   "execution_count": 9,
   "metadata": {},
   "outputs": [],
   "source": [
    "num_list = [1, 2, 3, 4]"
   ]
  },
  {
   "cell_type": "code",
   "execution_count": 19,
   "metadata": {},
   "outputs": [
    {
     "name": "stdout",
     "output_type": "stream",
     "text": [
      "(1, 2)\n",
      "(1, 3)\n",
      "(1, 4)\n",
      "(2, 3)\n",
      "(2, 4)\n",
      "(3, 4)\n"
     ]
    }
   ],
   "source": [
    "for i in range(len(num_list)):\n",
    "    for j in range(i+1,len(num_list)):\n",
    "        print((num_list[i], num_list[j]))"
   ]
  },
  {
   "cell_type": "code",
   "execution_count": 20,
   "metadata": {},
   "outputs": [
    {
     "name": "stdout",
     "output_type": "stream",
     "text": [
      "(1, 2)\n",
      "(1, 3)\n",
      "(1, 4)\n",
      "(2, 1)\n",
      "(2, 3)\n",
      "(2, 4)\n",
      "(3, 1)\n",
      "(3, 2)\n",
      "(3, 4)\n",
      "(4, 1)\n",
      "(4, 2)\n",
      "(4, 3)\n"
     ]
    }
   ],
   "source": [
    "for i in range(len(num_list)):\n",
    "    for j in range(len(num_list)):\n",
    "        if i != j:\n",
    "            print((num_list[i], num_list[j]))"
   ]
  },
  {
   "cell_type": "markdown",
   "metadata": {},
   "source": [
    "Exercise 10: Write a program to print whether a given number is prime number or not"
   ]
  },
  {
   "cell_type": "code",
   "execution_count": 43,
   "metadata": {},
   "outputs": [
    {
     "name": "stdout",
     "output_type": "stream",
     "text": [
      "6 is not a prime number\n"
     ]
    }
   ],
   "source": [
    "num = 6\n",
    "\n",
    "prime_cnt = 0\n",
    "if num == 1:\n",
    "    print('{} is not a prime number'.format(num))\n",
    "else:\n",
    "    for i in range(2, num):\n",
    "        if num % i == 0:\n",
    "            print('{} is not a prime number'.format(num))\n",
    "            prime_cnt += 1\n",
    "            break\n",
    "\n",
    "    if prime_cnt == 0:\n",
    "        print('{} is a prime number'.format(num))"
   ]
  },
  {
   "cell_type": "markdown",
   "metadata": {},
   "source": [
    "Exercise 11: User will provide 2 numbers you have to find the HCF of those 2 numbers"
   ]
  },
  {
   "cell_type": "code",
   "execution_count": 2,
   "metadata": {},
   "outputs": [
    {
     "name": "stdout",
     "output_type": "stream",
     "text": [
      "HCF is 2\n"
     ]
    }
   ],
   "source": [
    "num1 = int(input('enter number one: '))\n",
    "num2 = int(input('enter number two: '))\n",
    "\n",
    "if num1 < num2:\n",
    "    num_s = num1\n",
    "    num_l = num2\n",
    "else:\n",
    "    num_s = num2\n",
    "    num_l = num1\n",
    "\n",
    "fac_list_1 = []\n",
    "fac_list_2 = []\n",
    "\n",
    "for i in range(2, num_s):\n",
    "    if num_s % i == 0:\n",
    "        fac_list_1.append(i)\n",
    "\n",
    "for i in range(len(fac_list_1)):\n",
    "    if num_l % fac_list_1[i] == 0:\n",
    "        fac_list_2.append(fac_list_1[i])\n",
    "\n",
    "print('HCF is {}'.format(fac_list_2[-1]))"
   ]
  },
  {
   "cell_type": "markdown",
   "metadata": {},
   "source": [
    "Exercise 12: User will provide 2 numbers you have to find the by LCM of those 2 numbers"
   ]
  },
  {
   "cell_type": "code",
   "execution_count": 10,
   "metadata": {},
   "outputs": [
    {
     "name": "stdout",
     "output_type": "stream",
     "text": [
      "LCM is 525\n"
     ]
    }
   ],
   "source": [
    "num1 = int(input('enter number one: '))\n",
    "num2 = int(input('enter number two: '))\n",
    "\n",
    "if num1 < num2:\n",
    "    num_l = num2\n",
    "else:\n",
    "    num_l = num1\n",
    "\n",
    "while True:\n",
    "    if (num_l % num1 == 0) & (num_l % num2 == 0):\n",
    "        lcm = num_l\n",
    "        print('LCM is {}'.format(num_l))\n",
    "        break\n",
    "    else:\n",
    "        num_l += 1"
   ]
  },
  {
   "cell_type": "markdown",
   "metadata": {},
   "source": [
    "Exercise 13: Write a program that take a user input of three angles and will find out whether it can form a triangle or not."
   ]
  },
  {
   "cell_type": "code",
   "execution_count": 13,
   "metadata": {},
   "outputs": [
    {
     "name": "stdout",
     "output_type": "stream",
     "text": [
      "A triangle cannot be formed\n"
     ]
    }
   ],
   "source": [
    "angle1 = float(input('enter angle 1: '))\n",
    "angle2 = float(input('enter angle 2: '))\n",
    "angle3 = float(input('enter angle 3: '))\n",
    "\n",
    "if (angle1 + angle2 + angle3 == 180) & (angle1 > 0) & (angle2 > 0) & (angle3 > 0):\n",
    "    print('A triangle can be formed')\n",
    "else:\n",
    "    print('A triangle cannot be formed')"
   ]
  },
  {
   "cell_type": "markdown",
   "metadata": {},
   "source": [
    "Exercise 14: Write a program that will determine weather when the value of temperature and humidity is provided by the user."
   ]
  },
  {
   "cell_type": "code",
   "execution_count": 15,
   "metadata": {},
   "outputs": [
    {
     "name": "stdout",
     "output_type": "stream",
     "text": [
      "Weather is Hot\n"
     ]
    }
   ],
   "source": [
    "temp = int(input('Todays temperature: '))\n",
    "hum = int(input('Todays humidity: '))\n",
    "\n",
    "if temp >= 30:\n",
    "    if hum >= 90:\n",
    "        print('Weather is Hot and Humid')\n",
    "    else:\n",
    "        print('Weather is Hot')\n",
    "else:\n",
    "    if hum >= 90:\n",
    "        print('Weather is Cool and Humid')\n",
    "    else:\n",
    "        print('Weather is Cool')"
   ]
  },
  {
   "cell_type": "markdown",
   "metadata": {},
   "source": [
    "Exercise 15: Write a program that will take user input of cost price and selling price and determines whether its a loss or a profit"
   ]
  },
  {
   "cell_type": "code",
   "execution_count": 17,
   "metadata": {},
   "outputs": [
    {
     "name": "stdout",
     "output_type": "stream",
     "text": [
      "Profit : 50\n"
     ]
    }
   ],
   "source": [
    "cost = int(input('Cost price : '))\n",
    "selling = int(input('Selling price : '))\n",
    "\n",
    "if selling >= cost:\n",
    "    print('Profit : {}'.format(int(selling-cost)))\n",
    "else:\n",
    "    print('Loss : {}'.format(int(cost-selling)))"
   ]
  },
  {
   "cell_type": "markdown",
   "metadata": {},
   "source": [
    "Exercise 16: Write a program that will give you the in hand salary after deduction of \n",
    "* HRA(10%)\n",
    "* DA(5%)\n",
    "* PF(3%)\n",
    "* tax(100K) 5-10:10% 11-20:20%  >20:30%  0-1:print k"
   ]
  },
  {
   "cell_type": "code",
   "execution_count": 20,
   "metadata": {},
   "outputs": [
    {
     "name": "stdout",
     "output_type": "stream",
     "text": [
      "Salary after deduction is 1240K\n"
     ]
    }
   ],
   "source": [
    "salary = int(input('Original salary: '))\n",
    "\n",
    "if salary > 2000000:\n",
    "    tax = salary * 0.3\n",
    "elif salary > 1000000:\n",
    "    tax = salary * 0.2\n",
    "elif salary > 500000:\n",
    "    tax = salary * 0.1\n",
    "\n",
    "after_salary = (salary - tax - salary * (0.1+0.05+0.03))/1000\n",
    "print('Salary after deduction is {}K'.format(int(after_salary)))"
   ]
  },
  {
   "cell_type": "markdown",
   "metadata": {},
   "source": [
    "Exercise 17: Write a menu driven program\n",
    "* 1.cm to ft\n",
    "* 2.kl to miles\n",
    "* 3.usd to inr\n",
    "* 4.exit"
   ]
  },
  {
   "cell_type": "code",
   "execution_count": 27,
   "metadata": {},
   "outputs": [
    {
     "name": "stdout",
     "output_type": "stream",
     "text": [
      "34 km equals to 21.13 miles\n"
     ]
    }
   ],
   "source": [
    "user_input = int(input(\"\"\"Enter 1 to 'cm' to 'ft' Enter 2 to 'km' to 'miles'\n",
    "Enter 3 to 'USD' to 'INR'\n",
    "Enter 4 to exit \"\"\"))\n",
    "\n",
    "ori_unit = ['cm', 'km', 'usd']\n",
    "new_unit = ['ft', 'miles', 'inr']\n",
    "scale = [0.0328, 0.6214, 82.89]\n",
    "\n",
    "if user_input != 4:\n",
    "    ori = int(input('Enter the number: '))\n",
    "    new = round(ori * scale[user_input-1], 2)\n",
    "    print('{} {} equals to {} {}'.format(ori, ori_unit[user_input-1], new, new_unit[user_input-1]))\n",
    "elif user_input == 4:\n",
    "    print('Exit')\n"
   ]
  },
  {
   "cell_type": "markdown",
   "metadata": {},
   "source": [
    "Exercise 18: Write a program that will tell the number of dogs and chicken are there when the user will provide the value of total heads and legs.\n"
   ]
  },
  {
   "cell_type": "code",
   "execution_count": 31,
   "metadata": {},
   "outputs": [
    {
     "name": "stdout",
     "output_type": "stream",
     "text": [
      "The number of dogs: 0\n",
      "The number of chicken: 2\n"
     ]
    }
   ],
   "source": [
    "heads = int(input('The number of heads: '))\n",
    "legs = int(input('The number of legs: '))\n",
    "\n",
    "dogs = (legs-heads*2)/2\n",
    "chicken = (heads*4-legs)/2\n",
    "\n",
    "print('The number of dogs: {}'.format(int(dogs)))\n",
    "print('The number of chicken: {}'.format(int(chicken)))"
   ]
  },
  {
   "cell_type": "markdown",
   "metadata": {},
   "source": [
    "Exercise 19: Write a program to find the sum of first n numbers, where n will be provided by the user. Eg if the user provides n=10 the output should be 55."
   ]
  },
  {
   "cell_type": "code",
   "execution_count": 33,
   "metadata": {},
   "outputs": [
    {
     "name": "stdout",
     "output_type": "stream",
     "text": [
      "The sum of the first 10 numbers: 55\n"
     ]
    }
   ],
   "source": [
    "user_input = int(input('How many number would you like to sum: '))\n",
    "\n",
    "num_sum = 0\n",
    "for i in range(user_input):\n",
    "    num_sum += i+1\n",
    "\n",
    "print('The sum of the first {} numbers: {}'.format(user_input, num_sum))"
   ]
  },
  {
   "cell_type": "markdown",
   "metadata": {},
   "source": [
    "Exercise 20: Write a program that can multiply 2 numbers provided by the user without using the * operator"
   ]
  },
  {
   "cell_type": "code",
   "execution_count": 2,
   "metadata": {},
   "outputs": [
    {
     "name": "stdout",
     "output_type": "stream",
     "text": [
      "8\n"
     ]
    }
   ],
   "source": [
    "num1 = int(input('enter number one: '))\n",
    "num2 = int(input('enter number two: '))\n",
    "\n",
    "\n",
    "result = 0\n",
    "\n",
    "for i in range(num1):\n",
    "    result += num2\n",
    "\n",
    "print(result)"
   ]
  },
  {
   "cell_type": "markdown",
   "metadata": {},
   "source": [
    "Exercise 21: Write a program that can find the factorial of a given number provided by the user."
   ]
  },
  {
   "cell_type": "code",
   "execution_count": 4,
   "metadata": {},
   "outputs": [
    {
     "name": "stdout",
     "output_type": "stream",
     "text": [
      "The number is 6!\n"
     ]
    }
   ],
   "source": [
    "num = int(input('enter a number: '))\n",
    "\n",
    "end_num = 1\n",
    "result = 1\n",
    "\n",
    "while True:\n",
    "    if result == num:\n",
    "        print('The number is {}!'.format(end_num))\n",
    "        break\n",
    "    else:\n",
    "        end_num += 1\n",
    "        result *= end_num"
   ]
  },
  {
   "cell_type": "markdown",
   "metadata": {},
   "source": [
    "Exercise 22: print following pattern"
   ]
  },
  {
   "cell_type": "code",
   "execution_count": 11,
   "metadata": {},
   "outputs": [
    {
     "name": "stdout",
     "output_type": "stream",
     "text": [
      "1 \n",
      "\n",
      "2 2 \n",
      "\n",
      "3 3 3 \n",
      "\n",
      "4 4 4 4 \n",
      "\n",
      "5 5 5 5 5 \n",
      "\n"
     ]
    }
   ],
   "source": [
    "row_num = 5\n",
    "\n",
    "for i in range(row_num):\n",
    "    for j in range(i+1):\n",
    "        print(i+1, end=' ')\n",
    "    print('\\n')"
   ]
  },
  {
   "cell_type": "markdown",
   "metadata": {},
   "source": [
    "Exercise 23: Print First 10 natural numbers using while loop"
   ]
  },
  {
   "cell_type": "code",
   "execution_count": 13,
   "metadata": {},
   "outputs": [
    {
     "name": "stdout",
     "output_type": "stream",
     "text": [
      "1\n",
      "2\n",
      "3\n",
      "4\n",
      "5\n",
      "6\n",
      "7\n",
      "8\n",
      "9\n",
      "10\n"
     ]
    }
   ],
   "source": [
    "num = 1\n",
    "\n",
    "while num <= 10:\n",
    "    print(num)\n",
    "    num += 1"
   ]
  },
  {
   "cell_type": "markdown",
   "metadata": {},
   "source": [
    "Exercise 24: Write a program to count the total number of digits in a number using a while loop. \n",
    "\n",
    "For example, the number is 75869, so the output should be 5."
   ]
  },
  {
   "cell_type": "code",
   "execution_count": 25,
   "metadata": {},
   "outputs": [
    {
     "name": "stdout",
     "output_type": "stream",
     "text": [
      "The number of digits is 5\n"
     ]
    }
   ],
   "source": [
    "number = int(input('enter a number: '))\n",
    "\n",
    "cnt = 0\n",
    "\n",
    "while number > 0:\n",
    "    number = number//10\n",
    "    cnt += 1\n",
    "\n",
    "print('The number of digits is {}'.format(cnt))"
   ]
  },
  {
   "cell_type": "markdown",
   "metadata": {},
   "source": [
    "Exercise 25: Write a program that keeps on accepting a number from the user until the user enters Zero. Display the sum and average of all the numbers."
   ]
  },
  {
   "cell_type": "code",
   "execution_count": 28,
   "metadata": {},
   "outputs": [
    {
     "name": "stdout",
     "output_type": "stream",
     "text": [
      "Sum: 11, Mean: 5.5\n"
     ]
    }
   ],
   "source": [
    "num_input = int(input('enter a number: '))\n",
    "num_sum = 0\n",
    "num_cnt = 0\n",
    "\n",
    "while num_input != 0:\n",
    "    num_sum += num_input\n",
    "    num_cnt += 1\n",
    "    num_input = int(input('enter a number: '))\n",
    "\n",
    "print('Sum: {}, Mean: {}'.format(num_sum, num_sum/num_cnt))"
   ]
  },
  {
   "cell_type": "markdown",
   "metadata": {},
   "source": [
    "Exercise 26: Write a program to print the first 25 odd numbers"
   ]
  },
  {
   "cell_type": "code",
   "execution_count": 32,
   "metadata": {},
   "outputs": [
    {
     "name": "stdout",
     "output_type": "stream",
     "text": [
      "1\n",
      "3\n",
      "5\n",
      "7\n",
      "9\n",
      "11\n",
      "13\n",
      "15\n",
      "17\n",
      "19\n",
      "21\n",
      "23\n",
      "25\n",
      "27\n",
      "29\n",
      "31\n",
      "33\n",
      "35\n",
      "37\n",
      "39\n",
      "41\n",
      "43\n",
      "45\n",
      "47\n",
      "49\n"
     ]
    }
   ],
   "source": [
    "cnt = 0\n",
    "num = 1\n",
    "\n",
    "while cnt < 25:\n",
    "    if num % 2 != 0:\n",
    "        print(num)\n",
    "        cnt += 1\n",
    "    num += 1"
   ]
  },
  {
   "cell_type": "markdown",
   "metadata": {},
   "source": [
    "Exercise 27: Print the following pattern"
   ]
  },
  {
   "cell_type": "code",
   "execution_count": 35,
   "metadata": {},
   "outputs": [
    {
     "name": "stdout",
     "output_type": "stream",
     "text": [
      "1 \n",
      "\n",
      "1 2 \n",
      "\n",
      "1 2 3 \n",
      "\n",
      "1 2 3 4 \n",
      "\n",
      "1 2 3 4 5 \n",
      "\n"
     ]
    }
   ],
   "source": [
    "row_num = 5\n",
    "\n",
    "for i in range(row_num):\n",
    "    for j in range(i+1):\n",
    "        print(j+1, end=' ')\n",
    "    print('\\n')"
   ]
  },
  {
   "cell_type": "markdown",
   "metadata": {},
   "source": [
    "Exercise 28: Print the following pattern"
   ]
  },
  {
   "cell_type": "code",
   "execution_count": 38,
   "metadata": {},
   "outputs": [
    {
     "name": "stdout",
     "output_type": "stream",
     "text": [
      "1 \n",
      "\n",
      "2 3 \n",
      "\n",
      "4 5 6 \n",
      "\n",
      "7 8 9 10 \n",
      "\n",
      "11 12 13 14 15 \n",
      "\n"
     ]
    }
   ],
   "source": [
    "row_num = 5\n",
    "num = 1\n",
    "\n",
    "for i in range(row_num):\n",
    "    for j in range(i+1):\n",
    "        print(num, end=' ')\n",
    "        num += 1\n",
    "    print('\\n')"
   ]
  },
  {
   "cell_type": "markdown",
   "metadata": {},
   "source": [
    "Exercise 29: Print Pascal Triangle"
   ]
  },
  {
   "cell_type": "code",
   "execution_count": 84,
   "metadata": {},
   "outputs": [
    {
     "name": "stdout",
     "output_type": "stream",
     "text": [
      "    1 \n",
      "\n",
      "   1 1 \n",
      "\n",
      "  1 2 1 \n",
      "\n",
      " 1 3 3 1 \n",
      "\n",
      "1 4 6 4 1 \n",
      "\n"
     ]
    }
   ],
   "source": [
    "row_num = 5\n",
    "all_list = [1, 1, 1]\n",
    "pre_list = [1, 1]\n",
    "\n",
    "for j in range(row_num-2):\n",
    "    new_list = [1]\n",
    "    all_list.append(1)\n",
    "\n",
    "    for i in range(len(pre_list)-1):\n",
    "        num_new = pre_list[i]+pre_list[i+1]\n",
    "        new_list.append(num_new)\n",
    "        all_list.append(num_new)\n",
    "\n",
    "    new_list.append(1)\n",
    "    all_list.append(1)\n",
    "    \n",
    "    pre_list = new_list\n",
    "\n",
    "num = 0\n",
    "for i in range(row_num):\n",
    "    for j in range(0, row_num-i-1):\n",
    "        print(' ', end='')\n",
    "\n",
    "    for j in range(i+1):\n",
    "        print(all_list[num], end=' ')\n",
    "        num += 1\n",
    "\n",
    "    print('\\n')"
   ]
  },
  {
   "cell_type": "markdown",
   "metadata": {},
   "source": [
    "Exercise 30: Write a program to print multiplication table of a given number. \n",
    "\n",
    "For example, num = 2 so the output should be 2,4,6,8....20."
   ]
  },
  {
   "cell_type": "code",
   "execution_count": 85,
   "metadata": {},
   "outputs": [
    {
     "name": "stdout",
     "output_type": "stream",
     "text": [
      "16\n",
      "32\n",
      "48\n",
      "64\n",
      "80\n",
      "96\n",
      "112\n",
      "128\n",
      "144\n",
      "160\n"
     ]
    }
   ],
   "source": [
    "num = int(input('enter a number: '))\n",
    "\n",
    "for i in range(10):\n",
    "    print(num * (i+1))"
   ]
  },
  {
   "cell_type": "markdown",
   "metadata": {},
   "source": [
    "Exercise 31: Write a program to display only those numbers from a list that satisfy the following conditions\n",
    "* The number must be divisible by five\n",
    "* If the number is greater than 150, then skip it and move to the next number \n",
    "* If the number is greater than 500, then stop the loop"
   ]
  },
  {
   "cell_type": "code",
   "execution_count": 88,
   "metadata": {},
   "outputs": [
    {
     "name": "stdout",
     "output_type": "stream",
     "text": [
      "75\n",
      "150\n",
      "145\n"
     ]
    }
   ],
   "source": [
    "num_list = [12,75,150,180,145,525,50]\n",
    "\n",
    "for i in range(len(num_list)):\n",
    "    if num_list[i] <= 500:\n",
    "        if (num_list[i]%5 == 0) & (num_list[i]<=150):\n",
    "            print(num_list[i])\n",
    "    else:\n",
    "        break"
   ]
  },
  {
   "cell_type": "markdown",
   "metadata": {},
   "source": [
    "Exercise 32: Print the following pattern"
   ]
  },
  {
   "cell_type": "code",
   "execution_count": 95,
   "metadata": {},
   "outputs": [
    {
     "name": "stdout",
     "output_type": "stream",
     "text": [
      "5 4 3 2 1 \n",
      "\n",
      "4 3 2 1 \n",
      "\n",
      "3 2 1 \n",
      "\n",
      "2 1 \n",
      "\n",
      "1 \n",
      "\n"
     ]
    }
   ],
   "source": [
    "row_num = 5\n",
    "\n",
    "for i in range(row_num):\n",
    "    for j in range(row_num-i):\n",
    "        print(row_num-i-j, end=' ')\n",
    "    print('\\n')"
   ]
  },
  {
   "cell_type": "markdown",
   "metadata": {},
   "source": [
    "Exercise 33: Print list in reverse order using a loop"
   ]
  },
  {
   "cell_type": "code",
   "execution_count": 97,
   "metadata": {},
   "outputs": [
    {
     "name": "stdout",
     "output_type": "stream",
     "text": [
      "5 4 3 2 1 "
     ]
    }
   ],
   "source": [
    "l1=[1,2,3,4,5]\n",
    "\n",
    "for i in range(len(l1)):\n",
    "    print(l1[-(i+1)], end=' ')"
   ]
  },
  {
   "cell_type": "markdown",
   "metadata": {},
   "source": [
    "Exercise 34: Display numbers from -10 to -1 using for loop"
   ]
  },
  {
   "cell_type": "code",
   "execution_count": 100,
   "metadata": {},
   "outputs": [
    {
     "name": "stdout",
     "output_type": "stream",
     "text": [
      "-10 -9 -8 -7 -6 -5 -4 -3 -2 -1 "
     ]
    }
   ],
   "source": [
    "num1 = -10\n",
    "num2 = -1\n",
    "\n",
    "num = num1\n",
    "for i in range(num1, num2+1):\n",
    "    print(num, end=' ')\n",
    "    num += 1"
   ]
  },
  {
   "cell_type": "markdown",
   "metadata": {},
   "source": [
    "Exercise 37: Display Fibonacci series up to 10 terms\n",
    "\n",
    "The Fibonacci Sequence is a series of numbers. The next number is found by adding up the two numbers before it. The first two numbers are 0 and 1.\n",
    "For example, 0, 1, 1, 2, 3, 5, 8, 13, 21. The next number in this series above is 13+21 = 34."
   ]
  },
  {
   "cell_type": "code",
   "execution_count": 2,
   "metadata": {},
   "outputs": [
    {
     "name": "stdout",
     "output_type": "stream",
     "text": [
      "[0, 1, 1, 2, 3, 5, 8, 13, 21, 34]\n"
     ]
    }
   ],
   "source": [
    "seq_num = 10\n",
    "f_seq = [0, 1]\n",
    "\n",
    "for i in range(2, seq_num):\n",
    "    next_num = f_seq[i-2] + f_seq[i-1]\n",
    "    f_seq.append(next_num)\n",
    "\n",
    "print(f_seq)"
   ]
  },
  {
   "cell_type": "markdown",
   "metadata": {},
   "source": [
    "## 5.Python Functions Exercise"
   ]
  },
  {
   "cell_type": "markdown",
   "metadata": {},
   "source": [
    "Exercise 1: Write a function called exponent(base, exp) that returns an int value of base raises to the power of exp.\n",
    "Note here exp is a non-negative integer, and the base is an integer."
   ]
  },
  {
   "cell_type": "code",
   "execution_count": 4,
   "metadata": {},
   "outputs": [],
   "source": [
    "def exponent(base, exp):\n",
    "    result = base ** exp\n",
    "    return result"
   ]
  },
  {
   "cell_type": "code",
   "execution_count": 5,
   "metadata": {},
   "outputs": [
    {
     "data": {
      "text/plain": [
       "100"
      ]
     },
     "execution_count": 5,
     "metadata": {},
     "output_type": "execute_result"
    }
   ],
   "source": [
    "exponent(10, 2)"
   ]
  },
  {
   "cell_type": "markdown",
   "metadata": {},
   "source": [
    "Exercise 2: Write a program to create a function that takes two arguments, name and age, and print their value."
   ]
  },
  {
   "cell_type": "code",
   "execution_count": 6,
   "metadata": {},
   "outputs": [],
   "source": [
    "def getdata(name, age):\n",
    "    print('The age of {} is {}'.format(name, age))"
   ]
  },
  {
   "cell_type": "code",
   "execution_count": 8,
   "metadata": {},
   "outputs": [
    {
     "name": "stdout",
     "output_type": "stream",
     "text": [
      "The age of Mark is 25\n"
     ]
    }
   ],
   "source": [
    "getdata('Mark', 25)"
   ]
  },
  {
   "cell_type": "markdown",
   "metadata": {},
   "source": [
    "Exercise 3: Write a function to return True if the first and last number of a given list is same. If numbers are different then return False."
   ]
  },
  {
   "cell_type": "code",
   "execution_count": 9,
   "metadata": {},
   "outputs": [],
   "source": [
    "def number_check(num_list):\n",
    "    if num_list[0] == num_list[-1]:\n",
    "        return True\n",
    "    else:\n",
    "        return False"
   ]
  },
  {
   "cell_type": "code",
   "execution_count": 11,
   "metadata": {},
   "outputs": [
    {
     "data": {
      "text/plain": [
       "False"
      ]
     },
     "execution_count": 11,
     "metadata": {},
     "output_type": "execute_result"
    }
   ],
   "source": [
    "num_list = [1, 2, 3, 4, 5, 2, 2]\n",
    "\n",
    "number_check(num_list)"
   ]
  },
  {
   "cell_type": "markdown",
   "metadata": {},
   "source": [
    "Exercise 4: Given two integer numbers return their product only if the product is equal to or lower than 1000, else return their sum."
   ]
  },
  {
   "cell_type": "code",
   "execution_count": 12,
   "metadata": {},
   "outputs": [],
   "source": [
    "def num_prod(num1, num2):\n",
    "    if num1 * num2 <= 1000:\n",
    "        return num1 * num2\n",
    "    else:\n",
    "        return num1 + num2"
   ]
  },
  {
   "cell_type": "code",
   "execution_count": 14,
   "metadata": {},
   "outputs": [
    {
     "data": {
      "text/plain": [
       "125"
      ]
     },
     "execution_count": 14,
     "metadata": {},
     "output_type": "execute_result"
    }
   ],
   "source": [
    "num_prod(100, 25)"
   ]
  },
  {
   "cell_type": "markdown",
   "metadata": {},
   "source": [
    "Exercise 5: Write a program to create function func1() to accept a variable length of arguments and print their value."
   ]
  },
  {
   "cell_type": "code",
   "execution_count": 15,
   "metadata": {},
   "outputs": [],
   "source": [
    "def inpit(*num):\n",
    "    return num"
   ]
  },
  {
   "cell_type": "code",
   "execution_count": 18,
   "metadata": {},
   "outputs": [
    {
     "data": {
      "text/plain": [
       "(21, 22, 23)"
      ]
     },
     "execution_count": 18,
     "metadata": {},
     "output_type": "execute_result"
    }
   ],
   "source": [
    "inpit(21, 22, 23)"
   ]
  },
  {
   "cell_type": "markdown",
   "metadata": {},
   "source": [
    "Exercies 6: Collecting arbitrary number of arguments"
   ]
  },
  {
   "cell_type": "code",
   "execution_count": 28,
   "metadata": {},
   "outputs": [],
   "source": [
    "def make_pizza(size, *toppings):\n",
    "    print('Size: {}'.format(size))\n",
    "    print('Toppings:', end=' ')\n",
    "    for i in toppings:\n",
    "          print(i, end=' ')"
   ]
  },
  {
   "cell_type": "code",
   "execution_count": 29,
   "metadata": {},
   "outputs": [
    {
     "name": "stdout",
     "output_type": "stream",
     "text": [
      "Size: small\n",
      "Toppings: cheese amli paeri dijvoe "
     ]
    }
   ],
   "source": [
    "make_pizza('small', 'cheese', \"amli\",\"paeri\",\"dijvoe\")"
   ]
  },
  {
   "cell_type": "markdown",
   "metadata": {},
   "source": [
    "Exercise 7: Collecting arbitrary number of keyword arguments"
   ]
  },
  {
   "cell_type": "code",
   "execution_count": 33,
   "metadata": {},
   "outputs": [],
   "source": [
    "def build_database(fname, lname, **userdata):\n",
    "    database = {'first name':fname, 'last_name':lname}\n",
    "    for key, value in userdata.items():\n",
    "        database['key'] = value\n",
    "\n",
    "    return database"
   ]
  },
  {
   "cell_type": "code",
   "execution_count": 35,
   "metadata": {},
   "outputs": [
    {
     "data": {
      "text/plain": [
       "{'first name': 'milind', 'last_name': 'mali', 'key': 'Pune'}"
      ]
     },
     "execution_count": 35,
     "metadata": {},
     "output_type": "execute_result"
    }
   ],
   "source": [
    "build_database(\"milind\", \"mali\", age=26, Loc=\"Pune\")"
   ]
  },
  {
   "cell_type": "markdown",
   "metadata": {},
   "source": [
    "Exercise 9: Create a function with a default argument\n",
    "\n",
    "Write a program to create a function show_employee() using the following conditions. It should accept the employee’s name and salary and display both. If the salary is missing in the function call then assign default value 9000 to salary"
   ]
  },
  {
   "cell_type": "code",
   "execution_count": 41,
   "metadata": {},
   "outputs": [],
   "source": [
    "def show_employee(name, salary=9000):\n",
    "    print('{}\\'s salary is {}'.format(name, salary))"
   ]
  },
  {
   "cell_type": "code",
   "execution_count": 44,
   "metadata": {},
   "outputs": [
    {
     "name": "stdout",
     "output_type": "stream",
     "text": [
      "Amy's salary is 10000\n"
     ]
    }
   ],
   "source": [
    "show_employee('Amy', 10000)"
   ]
  },
  {
   "cell_type": "markdown",
   "metadata": {},
   "source": [
    "Exercise 10: Create an inner function to calculate the addition in the following way\n",
    "* Create an outer function that will accept two parameters, a and b\n",
    "* Create an inner function inside an outer function that will calculate the addition of a and b \n",
    "* At last, an outer function will add 5 into addition and return it"
   ]
  },
  {
   "cell_type": "code",
   "execution_count": 45,
   "metadata": {},
   "outputs": [],
   "source": [
    "def outer(a, b):\n",
    "\n",
    "    def inner(a, b):\n",
    "        return a+b\n",
    "    \n",
    "    return inner(a, b)+5"
   ]
  },
  {
   "cell_type": "code",
   "execution_count": 46,
   "metadata": {},
   "outputs": [
    {
     "data": {
      "text/plain": [
       "11"
      ]
     },
     "execution_count": 46,
     "metadata": {},
     "output_type": "execute_result"
    }
   ],
   "source": [
    "outer(1,5)"
   ]
  },
  {
   "cell_type": "markdown",
   "metadata": {},
   "source": [
    "Exercise 11: Create a recursive function"
   ]
  },
  {
   "cell_type": "markdown",
   "metadata": {},
   "source": [
    "Write a program to create a recursive function to calculate the sum of numbers from 0 to 10. \n",
    "\n",
    "Expected Output: 55"
   ]
  },
  {
   "cell_type": "code",
   "execution_count": 49,
   "metadata": {},
   "outputs": [],
   "source": [
    "def sum_seq(num):\n",
    "    if num == 0:\n",
    "        return 0\n",
    "    else:\n",
    "        return num + sum_seq(num-1)"
   ]
  },
  {
   "cell_type": "code",
   "execution_count": 50,
   "metadata": {},
   "outputs": [
    {
     "data": {
      "text/plain": [
       "55"
      ]
     },
     "execution_count": 50,
     "metadata": {},
     "output_type": "execute_result"
    }
   ],
   "source": [
    "sum_seq(10)"
   ]
  },
  {
   "cell_type": "markdown",
   "metadata": {},
   "source": [
    "\n",
    "Write a program to create a recursive function to calculate the factorial of numbers from 0 to 10.\n",
    "\n",
    "Expected Output: 120"
   ]
  },
  {
   "cell_type": "code",
   "execution_count": 51,
   "metadata": {},
   "outputs": [],
   "source": [
    "def multiple_seq(num):\n",
    "    if num == 0:\n",
    "        return 0\n",
    "    elif num == 1:\n",
    "        return 1\n",
    "    else:\n",
    "        return num * multiple_seq(num-1)"
   ]
  },
  {
   "cell_type": "code",
   "execution_count": 57,
   "metadata": {},
   "outputs": [
    {
     "data": {
      "text/plain": [
       "3628800"
      ]
     },
     "execution_count": 57,
     "metadata": {},
     "output_type": "execute_result"
    }
   ],
   "source": [
    "multiple_seq(10)"
   ]
  },
  {
   "cell_type": "markdown",
   "metadata": {},
   "source": [
    "Exercise 12: Assign a different name to function and call it through the new name\n",
    "\n",
    "Below is the function display_student(name, age). Assign a new name show_student(name, age) to it and call it using the new name."
   ]
  },
  {
   "cell_type": "code",
   "execution_count": 58,
   "metadata": {},
   "outputs": [],
   "source": [
    "def display_student(name, age):\n",
    "    print('The age of {} is {}'.format(name, age))\n",
    "\n",
    "show_student = display_student"
   ]
  },
  {
   "cell_type": "code",
   "execution_count": 59,
   "metadata": {},
   "outputs": [
    {
     "name": "stdout",
     "output_type": "stream",
     "text": [
      "The age of Amy is 16\n"
     ]
    }
   ],
   "source": [
    "show_student('Amy', 16)"
   ]
  },
  {
   "cell_type": "markdown",
   "metadata": {},
   "source": [
    "Exercise 14: Find the largest item from a given list"
   ]
  },
  {
   "cell_type": "code",
   "execution_count": 60,
   "metadata": {},
   "outputs": [],
   "source": [
    "def find_max(num_list):\n",
    "    max_num = 0\n",
    "\n",
    "    for i in range(len(num_list)):\n",
    "        if num_list[i] > max_num:\n",
    "            max_num = num_list[i]\n",
    "    \n",
    "    return max_num\n"
   ]
  },
  {
   "cell_type": "code",
   "execution_count": 62,
   "metadata": {},
   "outputs": [
    {
     "data": {
      "text/plain": [
       "65"
      ]
     },
     "execution_count": 62,
     "metadata": {},
     "output_type": "execute_result"
    }
   ],
   "source": [
    "l1 = [4, 6, 8, 24, 12, 2, 65]\n",
    "\n",
    "find_max(l1)"
   ]
  },
  {
   "cell_type": "markdown",
   "metadata": {},
   "source": [
    "## 6.Python string Excercise with solutions"
   ]
  },
  {
   "cell_type": "markdown",
   "metadata": {},
   "source": [
    "Exercise 1: Return the count of a given substring from a string\n",
    "\n",
    "Write a program to find how many times substring “radha” appears in the given string"
   ]
  },
  {
   "cell_type": "code",
   "execution_count": 63,
   "metadata": {},
   "outputs": [
    {
     "data": {
      "text/plain": [
       "3"
      ]
     },
     "execution_count": 63,
     "metadata": {},
     "output_type": "execute_result"
    }
   ],
   "source": [
    "sentence=\"radha is most beutiful,radha is queen of vraj,radha is most beloved to govind\"\n",
    "\n",
    "sentence.count('radha')"
   ]
  },
  {
   "cell_type": "markdown",
   "metadata": {},
   "source": [
    "Exercise 2: Print characters from a string that are present at an even index number\n",
    "\n",
    "For example, str = \"pynative\" so you should display ‘p’, ‘n’, ‘t’, ‘v’."
   ]
  },
  {
   "cell_type": "code",
   "execution_count": 70,
   "metadata": {},
   "outputs": [
    {
     "name": "stdout",
     "output_type": "stream",
     "text": [
      "pntv\n"
     ]
    }
   ],
   "source": [
    "str = \"pynative\"\n",
    "new_str = ''\n",
    "\n",
    "for i in range(len(str)):\n",
    "    if i%2 == 0:\n",
    "        new_str += str[i]\n",
    "\n",
    "print(new_str)"
   ]
  },
  {
   "cell_type": "markdown",
   "metadata": {},
   "source": [
    "Exercise 3: Write a program to remove characters from a string starting from zero up to n and return a new string.\n",
    "\n",
    "For example: remove_chars(\"pynative\", 4) so output must be tive."
   ]
  },
  {
   "cell_type": "code",
   "execution_count": 71,
   "metadata": {},
   "outputs": [],
   "source": [
    "def remove_chars(ori_str, num):\n",
    "    new_str = ''\n",
    "    \n",
    "    for i in range(len(ori_str)):\n",
    "        if i >= num:\n",
    "            new_str += str[i]\n",
    "    \n",
    "    return new_str"
   ]
  },
  {
   "cell_type": "code",
   "execution_count": 73,
   "metadata": {},
   "outputs": [
    {
     "data": {
      "text/plain": [
       "'native'"
      ]
     },
     "execution_count": 73,
     "metadata": {},
     "output_type": "execute_result"
    }
   ],
   "source": [
    "remove_chars(\"pynative\", 2)"
   ]
  },
  {
   "cell_type": "markdown",
   "metadata": {},
   "source": [
    "Exercise 4: Write a program to create a new string made of the middle three characters of an input string.\n",
    "\n",
    "ex.JaSonAy-->Son"
   ]
  },
  {
   "cell_type": "code",
   "execution_count": 80,
   "metadata": {},
   "outputs": [],
   "source": [
    "def mid3(ori_str):\n",
    "    if len(ori_str)%2 == 0:\n",
    "        print('Without the middle three')\n",
    "    else:\n",
    "        new_str = ''\n",
    "        for i in range(int((len(ori_str)-1)/2)-1, int((len(ori_str)-1)/2)+2):\n",
    "            new_str += ori_str[i]\n",
    "        print('The middle three is {}'.format(new_str))"
   ]
  },
  {
   "cell_type": "code",
   "execution_count": 82,
   "metadata": {},
   "outputs": [
    {
     "name": "stdout",
     "output_type": "stream",
     "text": [
      "The middle three is Dip\n"
     ]
    }
   ],
   "source": [
    "mid3('JhonDipPeta')"
   ]
  },
  {
   "cell_type": "markdown",
   "metadata": {},
   "source": [
    "Exercise 5: Count the frequency of a particular character in a provided string. \n",
    "\n",
    "Eg 'hello how are you' is the string, the frequency of h in this string is 2."
   ]
  },
  {
   "cell_type": "code",
   "execution_count": 83,
   "metadata": {},
   "outputs": [],
   "source": [
    "def ch_calculator(string, ch):\n",
    "    cnt = 0\n",
    "    for i in range(len(string)):\n",
    "        if string[i] == ch:\n",
    "            cnt += 1\n",
    "    print('The frequency of {} is {}'.format(ch, cnt))"
   ]
  },
  {
   "cell_type": "code",
   "execution_count": 85,
   "metadata": {},
   "outputs": [
    {
     "name": "stdout",
     "output_type": "stream",
     "text": [
      "The frequency of h is 2\n"
     ]
    }
   ],
   "source": [
    "s = 'hello how are you'\n",
    "ch_calculator(s, 'h')"
   ]
  },
  {
   "cell_type": "markdown",
   "metadata": {},
   "source": [
    "Exercise 7: Write a program which can remove a particular character from a string."
   ]
  },
  {
   "cell_type": "code",
   "execution_count": 92,
   "metadata": {},
   "outputs": [],
   "source": [
    "def rem_ch(s, ch):\n",
    "    new_s = ''\n",
    "    for i in range(len(s)):\n",
    "        if s[i] != ch:\n",
    "            new_s += s[i]\n",
    "    return new_s"
   ]
  },
  {
   "cell_type": "code",
   "execution_count": 93,
   "metadata": {},
   "outputs": [
    {
     "data": {
      "text/plain": [
       "'mlnd'"
      ]
     },
     "execution_count": 93,
     "metadata": {},
     "output_type": "execute_result"
    }
   ],
   "source": [
    "s = 'milind'\n",
    "rem_ch(s, 'i')"
   ]
  },
  {
   "cell_type": "markdown",
   "metadata": {},
   "source": [
    "Exercise 10: Arrange string characters such that lowercase letters should come first"
   ]
  },
  {
   "cell_type": "code",
   "execution_count": 97,
   "metadata": {},
   "outputs": [],
   "source": [
    "def low_first(s):\n",
    "    new_s = ''\n",
    "\n",
    "    for i in range(len(s)):\n",
    "        if s[i].islower():\n",
    "            new_s += s[i]\n",
    "\n",
    "    for i in range(len(s)):\n",
    "        if not s[i].islower():\n",
    "            new_s += s[i]\n",
    "\n",
    "    return new_s"
   ]
  },
  {
   "cell_type": "code",
   "execution_count": 98,
   "metadata": {},
   "outputs": [
    {
     "data": {
      "text/plain": [
       "'yaivePNT'"
      ]
     },
     "execution_count": 98,
     "metadata": {},
     "output_type": "execute_result"
    }
   ],
   "source": [
    "s = 'PyNaTive'\n",
    "low_first(s)"
   ]
  },
  {
   "cell_type": "markdown",
   "metadata": {},
   "source": [
    "Exercise 11: Count all letters, digits, and special symbols from a given string"
   ]
  },
  {
   "cell_type": "code",
   "execution_count": 99,
   "metadata": {},
   "outputs": [],
   "source": [
    "def counter(s):\n",
    "    letter_cnt = 0\n",
    "    digit_cnt = 0\n",
    "    symbol_cnt = 0\n",
    "\n",
    "    for i in range(len(s)):\n",
    "        if s[i].isalpha():\n",
    "            letter_cnt += 1\n",
    "        elif s[i].isdigit():\n",
    "            digit_cnt += 1\n",
    "        else:\n",
    "            symbol_cnt += 1\n",
    "    \n",
    "    print('The number of letters: {}'.format(letter_cnt))\n",
    "    print('The number of digits: {}'.format(digit_cnt))\n",
    "    print('The number of special symbols: {}'.format(symbol_cnt))"
   ]
  },
  {
   "cell_type": "code",
   "execution_count": 100,
   "metadata": {},
   "outputs": [
    {
     "name": "stdout",
     "output_type": "stream",
     "text": [
      "The number of letters: 8\n",
      "The number of digits: 3\n",
      "The number of special symbols: 4\n"
     ]
    }
   ],
   "source": [
    "s = \"P@#yn26at^&i5ve\"\n",
    "counter(s)"
   ]
  },
  {
   "cell_type": "markdown",
   "metadata": {},
   "source": [
    "Exercise 12: Create a mixed String using the following rules\n",
    "\n",
    "Given two strings, s1 and s2. Write a program to create a new string s3 made of the first char of s1, then the last char of s2, Next, the second char of s1 and second last char of s2, and so on. Any leftover chars go at the end of the result."
   ]
  },
  {
   "cell_type": "code",
   "execution_count": 107,
   "metadata": {},
   "outputs": [],
   "source": [
    "def create_string(s1, s2):\n",
    "    \n",
    "    new_s2 = ''\n",
    "    for i in range(len(s2)):\n",
    "        new_s2 += s2[-1-i]\n",
    "\n",
    "    new_s = ''\n",
    "    if len(s1) >= len(s2):\n",
    "        for i in range(len(s2)):\n",
    "            new_s += s1[i]\n",
    "            new_s += new_s2[i]\n",
    "        for i in range(len(s2), len(s1)):\n",
    "            new_s += s1[i]\n",
    "    else:\n",
    "        for i in range(len(s1)):\n",
    "            new_s += s1[i]\n",
    "            new_s += new_s2[i]\n",
    "        for i in range(len(s1), len(s2)):\n",
    "            new_s += new_s2[i]       \n",
    "    \n",
    "    return new_s"
   ]
  },
  {
   "cell_type": "code",
   "execution_count": 108,
   "metadata": {},
   "outputs": [
    {
     "data": {
      "text/plain": [
       "'AcBbCazyx'"
      ]
     },
     "execution_count": 108,
     "metadata": {},
     "output_type": "execute_result"
    }
   ],
   "source": [
    "s1=\"ABC\" \n",
    "s2=\"xyzabc\"\n",
    "create_string(s1, s2)"
   ]
  },
  {
   "cell_type": "code",
   "execution_count": null,
   "metadata": {},
   "outputs": [],
   "source": []
  },
  {
   "cell_type": "code",
   "execution_count": null,
   "metadata": {},
   "outputs": [],
   "source": []
  }
 ],
 "metadata": {
  "kernelspec": {
   "display_name": "Python 3",
   "language": "python",
   "name": "python3"
  },
  "language_info": {
   "codemirror_mode": {
    "name": "ipython",
    "version": 3
   },
   "file_extension": ".py",
   "mimetype": "text/x-python",
   "name": "python",
   "nbconvert_exporter": "python",
   "pygments_lexer": "ipython3",
   "version": "3.7.7"
  }
 },
 "nbformat": 4,
 "nbformat_minor": 2
}
